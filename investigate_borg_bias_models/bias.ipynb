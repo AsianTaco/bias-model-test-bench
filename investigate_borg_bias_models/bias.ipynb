{
 "cells": [
  {
   "attachments": {},
   "cell_type": "markdown",
   "metadata": {},
   "source": [
    "## Set up environement"
   ]
  },
  {
   "cell_type": "code",
   "execution_count": 1,
   "metadata": {},
   "outputs": [],
   "source": [
    "from os import path, makedirs\n",
    "from IPython.core.magic import register_line_cell_magic\n",
    "@register_line_cell_magic\n",
    "def writetemplate(line, cell):\n",
    "    with open(line, 'w') as f:\n",
    "        f.write(cell.format(**globals()))"
   ]
  },
  {
   "cell_type": "code",
   "execution_count": 2,
   "metadata": {},
   "outputs": [],
   "source": [
    "%load_ext autoreload\n",
    "%autoreload 2\n",
    "from parameters import *\n",
    "from forward_model import *"
   ]
  },
  {
   "cell_type": "code",
   "execution_count": 3,
   "metadata": {},
   "outputs": [],
   "source": [
    "from matplotlib import pyplot as plt\n",
    "import seaborn as sns"
   ]
  },
  {
   "cell_type": "code",
   "execution_count": 4,
   "metadata": {},
   "outputs": [],
   "source": [
    "makedirs(wd+\"results/\", exist_ok=True)\n",
    "makedirs(wd+\"RUN_SCRIPTS/\", exist_ok=True)"
   ]
  },
  {
   "attachments": {},
   "cell_type": "markdown",
   "metadata": {},
   "source": [
    "## Perform some compute node -related tests"
   ]
  },
  {
   "attachments": {},
   "cell_type": "markdown",
   "metadata": {},
   "source": [
    "### Simple forward pass"
   ]
  },
  {
   "cell_type": "code",
   "execution_count": null,
   "metadata": {},
   "outputs": [],
   "source": [
    "script1_path = wd+\"simple_forward_pass.py\""
   ]
  },
  {
   "cell_type": "code",
   "execution_count": null,
   "metadata": {},
   "outputs": [],
   "source": [
    "%%writetemplate {script1_path}\n",
    "print(\"Loading libraries...\")\n",
    "from parameters import *\n",
    "from forward_model import *\n",
    "from matplotlib import pyplot as plt\n",
    "import seaborn as sns\n",
    "print(\"Done. Initializing BiasModelBORG for data_seed=0...\")\n",
    "BiasModel = BiasModelBORG(\"bias::BrokenPowerLaw\")\n",
    "print(\"Done. Performing forward pass for res=256...\")\n",
    "i = 3\n",
    "parameters = np.array([2.5, 0.65, 1.5, 0.4])\n",
    "count = BiasModel.get_count_field(i, parameters)\n",
    "N = BiasModelBORG.get_N(BiasModel, i)\n",
    "print(\"Done. Plotting slice_ref...\")\n",
    "slice_ref = count[:,:,N//2]\n",
    "sns.heatmap(slice_ref)\n",
    "plt.savefig(wd+\"results/slice_ref.png\")\n",
    "print(\"Done. Saving slice_ref...\")\n",
    "np.save(wd+\"results/slice_ref.npy\", slice_ref)\n",
    "print(\"Done.\")"
   ]
  },
  {
   "cell_type": "code",
   "execution_count": null,
   "metadata": {},
   "outputs": [],
   "source": [
    "%%writetemplate {wd+\"RUN_SCRIPTS/run1.sh\"}\n",
    "{HEADER}\n",
    "module load \"intelpython/3-2023.0.0\"\n",
    "source activate borg\n",
    "python \"{script1_path}\"\n",
    "exit 0"
   ]
  },
  {
   "cell_type": "code",
   "execution_count": null,
   "metadata": {},
   "outputs": [],
   "source": [
    "%%bash -s {wd+\"RUN_SCRIPTS/run1.sh\"}\n",
    "qsub $1"
   ]
  },
  {
   "attachments": {},
   "cell_type": "markdown",
   "metadata": {},
   "source": [
    "One has to wait for the job launched above to finish before being able to run the following cell."
   ]
  },
  {
   "cell_type": "code",
   "execution_count": null,
   "metadata": {},
   "outputs": [],
   "source": [
    "slice_ref = np.load(wd+\"results/slice_ref.npy\")\n",
    "# sns.heatmap(slice_ref) ; plt.show()"
   ]
  },
  {
   "attachments": {},
   "cell_type": "markdown",
   "metadata": {},
   "source": [
    "### Checks computation of errors"
   ]
  },
  {
   "cell_type": "code",
   "execution_count": null,
   "metadata": {},
   "outputs": [],
   "source": [
    "script2_path = wd+\"checks_errors.py\""
   ]
  },
  {
   "cell_type": "code",
   "execution_count": null,
   "metadata": {},
   "outputs": [],
   "source": [
    "%%writetemplate {wd+\"RUN_SCRIPTS/run2.sh\"}\n",
    "{HEADER}\n",
    "module load \"intelpython/3-2023.0.0\"\n",
    "source activate borg\n",
    "python \"{script2_path}\"\n",
    "exit 0"
   ]
  },
  {
   "cell_type": "code",
   "execution_count": null,
   "metadata": {},
   "outputs": [],
   "source": [
    "%%bash -s {wd+\"RUN_SCRIPTS/run2.sh\"}\n",
    "qsub $1"
   ]
  },
  {
   "attachments": {},
   "cell_type": "markdown",
   "metadata": {},
   "source": [
    "## Optimisation for small parameters space"
   ]
  },
  {
   "attachments": {},
   "cell_type": "markdown",
   "metadata": {},
   "source": [
    "### Exploration"
   ]
  },
  {
   "attachments": {},
   "cell_type": "markdown",
   "metadata": {},
   "source": [
    "#### Checks varying the number of resolutions"
   ]
  },
  {
   "cell_type": "code",
   "execution_count": null,
   "metadata": {},
   "outputs": [],
   "source": [
    "BiasModel = BiasModelBORG(\"bias::BrokenPowerLaw\")\n",
    "i = 3\n",
    "parameters_list = np.array([[2.5, 0.65, 1.5, 0.4]]*6)\n",
    "err = BiasModel.compute_fixed_res_error(i, parameters_list)\n",
    "print(err)"
   ]
  },
  {
   "cell_type": "code",
   "execution_count": null,
   "metadata": {},
   "outputs": [],
   "source": [
    "# Should yield the same as the above cell\n",
    "BiasModel = BiasModelBORG(\"bias::BrokenPowerLaw\", reskeys=[\"res_3\"])\n",
    "i = 0\n",
    "parameters_list = np.array([[2.5, 0.65, 1.5, 0.4]]*6)\n",
    "err = BiasModel.compute_fixed_res_error(i, parameters_list)\n",
    "print(err)"
   ]
  },
  {
   "cell_type": "code",
   "execution_count": null,
   "metadata": {},
   "outputs": [],
   "source": [
    "BiasModel = BiasModelBORG(\"bias::BrokenPowerLaw\", reskeys=[\"res_0\", \"res_1\"])\n",
    "i = 0\n",
    "parameters_list = np.array([[2.5, 0.65, 1.5, 0.4]]*6)\n",
    "err = BiasModel.compute_fixed_res_error(i, parameters_list)\n",
    "print(err)"
   ]
  },
  {
   "attachments": {},
   "cell_type": "markdown",
   "metadata": {},
   "source": [
    "#### Checks varying the number of mass bins considered"
   ]
  },
  {
   "cell_type": "code",
   "execution_count": null,
   "metadata": {},
   "outputs": [],
   "source": [
    "BiasModel = BiasModelBORG(\"bias::BrokenPowerLaw\", fields_to_load=['dm_overdensity', 'counts_bin_0', 'counts_bin_1'])\n",
    "i = 3\n",
    "parameters_list = np.array([[2.5, 0.65, 1.5, 0.4]]*2)\n",
    "err = BiasModel.compute_fixed_res_error(i, parameters_list)\n",
    "print(err)"
   ]
  },
  {
   "attachments": {},
   "cell_type": "markdown",
   "metadata": {},
   "source": [
    "#### Checks varying the data seed"
   ]
  },
  {
   "cell_type": "code",
   "execution_count": null,
   "metadata": {},
   "outputs": [],
   "source": [
    "# Should yield the same as the above cell:\n",
    "BiasModel = BiasModelBORG(\"bias::BrokenPowerLaw\", fields_to_load=['dm_overdensity', 'counts_bin_0', 'counts_bin_1'])\n",
    "BiasModel.load_data(0)\n",
    "i = 3\n",
    "parameters_list = np.array([[2.5, 0.65, 1.5, 0.4]]*2)\n",
    "err = BiasModel.compute_fixed_res_error(i, parameters_list)\n",
    "print(err)"
   ]
  },
  {
   "cell_type": "code",
   "execution_count": null,
   "metadata": {},
   "outputs": [],
   "source": [
    "# Should be slightly different:\n",
    "BiasModel = BiasModelBORG(\"bias::BrokenPowerLaw\", fields_to_load=['dm_overdensity', 'counts_bin_0', 'counts_bin_1'])\n",
    "BiasModel.load_data(1)\n",
    "i = 3\n",
    "parameters_list = np.array([[2.5, 0.65, 1.5, 0.4]]*2)\n",
    "err = BiasModel.compute_fixed_res_error(i, parameters_list)\n",
    "print(err)"
   ]
  },
  {
   "attachments": {},
   "cell_type": "markdown",
   "metadata": {},
   "source": [
    "#### Error on full dataset"
   ]
  },
  {
   "cell_type": "code",
   "execution_count": null,
   "metadata": {},
   "outputs": [],
   "source": [
    "BiasModel = BiasModelBORG(\"bias::BrokenPowerLaw\", reskeys=[\"res_0\", \"res_1\"],\n",
    "                          fields_to_load=['dm_overdensity', 'counts_bin_0', 'counts_bin_1'])\n",
    "parameters_list = np.array([[[2.5, 0.65, 1.5, 0.4]]*2]*2)\n",
    "err = BiasModel.compute_error(parameters_list)\n",
    "print(err)"
   ]
  },
  {
   "cell_type": "code",
   "execution_count": null,
   "metadata": {},
   "outputs": [],
   "source": [
    "BiasModel = BiasModelBORG(\"bias::BrokenPowerLaw\", reskeys=[\"res_0\", \"res_1\"],\n",
    "                          fields_to_load=['dm_overdensity', 'counts_bin_0', 'counts_bin_1'])\n",
    "parameters_list = np.array([[[1, 1, 1, 1]]*2]*2)\n",
    "err = BiasModel.compute_error(parameters_list)\n",
    "print(err)"
   ]
  },
  {
   "cell_type": "code",
   "execution_count": null,
   "metadata": {},
   "outputs": [],
   "source": [
    "BiasModel = BiasModelBORG(\"bias::Linear\", reskeys=[\"res_0\", \"res_1\", \"res_2\"],\n",
    "                          fields_to_load=['dm_overdensity', 'counts_bin_0', 'counts_bin_1'])\n",
    "parameters_list = np.array([[[1, 1]]*2]*3)\n",
    "err = BiasModel.compute_error(parameters_list)\n",
    "print(err)"
   ]
  },
  {
   "attachments": {},
   "cell_type": "markdown",
   "metadata": {},
   "source": [
    "#### Sequential computation of the total loss"
   ]
  },
  {
   "attachments": {},
   "cell_type": "markdown",
   "metadata": {},
   "source": [
    "##### Most complex case (all resolutions, all mass bins)"
   ]
  },
  {
   "cell_type": "code",
   "execution_count": null,
   "metadata": {},
   "outputs": [],
   "source": [
    "script3_path = wd+\"try_full_loss_v1.py\""
   ]
  },
  {
   "cell_type": "code",
   "execution_count": null,
   "metadata": {},
   "outputs": [],
   "source": [
    "%%writetemplate {wd+\"RUN_SCRIPTS/run3.sh\"}\n",
    "{HEADER}\n",
    "module load \"intelpython/3-2023.0.0\"\n",
    "source activate borg\n",
    "python \"{script3_path}\"\n",
    "exit 0"
   ]
  },
  {
   "cell_type": "code",
   "execution_count": null,
   "metadata": {},
   "outputs": [],
   "source": [
    "%%bash -s {wd+\"RUN_SCRIPTS/run3.sh\"}\n",
    "qsub $1"
   ]
  },
  {
   "attachments": {},
   "cell_type": "markdown",
   "metadata": {},
   "source": [
    "Poisson:\n",
    "```bash\n",
    "####################\n",
    "Computing error for bias model: bias::Linear\n",
    "Error: 5.424980806430816\n",
    "Time: 19.747969150543213\n",
    "####################\n",
    "Computing error for bias model: bias::BrokenPowerLaw\n",
    "Error: 5.630357691003928\n",
    "Time: 16.98229718208313\n",
    "####################\n",
    "Computing error for bias model: bias::SecondOrderBias\n",
    "Error: 4.947548507437198\n",
    "Time: 61.746253967285156\n",
    "```\n",
    "\n",
    "MSE:\n",
    "```bash\n",
    "####################\n",
    "Computing error for bias model: bias::Linear\n",
    "Error: 5.424980806430816\n",
    "Time: 21.32629084587097\n",
    "\n",
    "####################\n",
    "Computing error for bias model: bias::BrokenPowerLaw\n",
    "Error: 5.630357691003928\n",
    "Time: 31.602696895599365\n",
    "\n",
    "####################\n",
    "Computing error for bias model: bias::SecondOrderBias\n",
    "Error: 4.947548507437198\n",
    "Time: 78.03321027755737\n",
    "```"
   ]
  },
  {
   "attachments": {},
   "cell_type": "markdown",
   "metadata": {},
   "source": [
    "##### Easy case (one resolution, two mass bins)"
   ]
  },
  {
   "cell_type": "code",
   "execution_count": null,
   "metadata": {},
   "outputs": [],
   "source": [
    "script4_path = wd+\"try_full_loss_v2.py\""
   ]
  },
  {
   "cell_type": "code",
   "execution_count": null,
   "metadata": {},
   "outputs": [],
   "source": [
    "%%writetemplate {wd+\"RUN_SCRIPTS/run4.sh\"}\n",
    "{HEADER}\n",
    "module load \"intelpython/3-2023.0.0\"\n",
    "source activate borg\n",
    "python \"{script4_path}\"\n",
    "exit 0"
   ]
  },
  {
   "cell_type": "code",
   "execution_count": null,
   "metadata": {},
   "outputs": [],
   "source": [
    "%%bash -s {wd+\"RUN_SCRIPTS/run4.sh\"}\n",
    "qsub $1"
   ]
  },
  {
   "attachments": {},
   "cell_type": "markdown",
   "metadata": {},
   "source": [
    "Poisson:\n",
    "```bash\n",
    "####################\n",
    "Computing error for bias model: bias::Linear\n",
    "Error: -10303.13282692553\n",
    "Time: 0.45497822761535645\n",
    "####################\n",
    "Computing error for bias model: bias::BrokenPowerLaw\n",
    "Error: -259920.0763539538\n",
    "Time: 0.08563613891601562\n",
    "####################\n",
    "Computing error for bias model: bias::SecondOrderBias\n",
    "Error: 9296010.143621296\n",
    "Time: 0.6990132331848145\n",
    "```\n",
    "\n",
    "MSE:\n",
    "```bash\n",
    "####################\n",
    "Computing error for bias model: bias::Linear\n",
    "Error: 12.92336057566297\n",
    "Time: 0.7955682277679443\n",
    "####################\n",
    "Computing error for bias model: bias::BrokenPowerLaw\n",
    "Error: 12.617381975535864\n",
    "Time: 0.1658039093017578\n",
    "####################\n",
    "Computing error for bias model: bias::SecondOrderBias\n",
    "Error: 13.262693839300717\n",
    "Time: 0.7903237342834473\n",
    "```"
   ]
  },
  {
   "attachments": {},
   "cell_type": "markdown",
   "metadata": {},
   "source": [
    "### Perform optimisation in the simple case (dim 4 / dim 8 parameter space)"
   ]
  },
  {
   "cell_type": "code",
   "execution_count": null,
   "metadata": {},
   "outputs": [],
   "source": [
    "bias_model = \"bias::BrokenPowerLaw\"\n",
    "# bias_model = \"bias::SecondOrderBias\"\n",
    "# bias_model = \"bias::Linear\"\n",
    "\n",
    "reskeys=[\"res_0\"]\n",
    "fields_to_load=['dm_overdensity', 'counts_bin_0']\n",
    "# fields_to_load=['dm_overdensity', 'counts_bin_0', 'counts_bin_1']\n",
    "nkeys = len(reskeys)\n",
    "nfields = len(fields_to_load)-1\n",
    "parameters_list_dict = {\"bias::Linear\": np.array([[[1, 1]]*nfields]*nkeys),\n",
    "                        # \"bias::BrokenPowerLaw\": np.array([[[1,1,1,1]]*nfields]*nkeys),\n",
    "                        \"bias::BrokenPowerLaw\": np.array([[[2.5, 0.65, 1.5, 0.4]]*nfields]*nkeys),\n",
    "                        \"bias::SecondOrderBias\": np.array([[[1, 1, 1, 1]]*nfields]*nkeys)}\n",
    "\n",
    "# TODO: define the correct physical bounds for the parameters:\n",
    "bounds = {\"bias::Linear\": [(1., 500.), (0.01, 3.)]*nfields,\n",
    "            \"bias::BrokenPowerLaw\": [(1., 500.), (0.01, 3.), (.01, 2.), (.01, 2.)]*nfields,\n",
    "            \"bias::SecondOrderBias\": [(1., 500.), (0.01, 3.), (.01, 2.), (.01, 2.)]*nfields}\n",
    "\n",
    "BiasModel = BiasModelBORG(bias_model, reskeys=reskeys, fields_to_load=fields_to_load)\n",
    "parameters_list = parameters_list_dict[bias_model]\n",
    "err = BiasModel.compute_error(parameters_list, loss=\"Poisson\")\n",
    "print(err)"
   ]
  },
  {
   "cell_type": "code",
   "execution_count": null,
   "metadata": {},
   "outputs": [],
   "source": [
    "def error_function(parameters_list_flat):\n",
    "    parameters_list = parameters_list_flat.reshape((nkeys, nfields, -1))\n",
    "    return BiasModel.compute_error(parameters_list, loss=\"Poisson\")\n",
    "\n",
    "# The callback function is only used to print the parameters and the error at each iteration:\n",
    "def callback_function(parameters_list_flat):\n",
    "    parameters_list = parameters_list_flat.reshape((nkeys, nfields, -1))\n",
    "    err = BiasModel.compute_error(parameters_list, loss=\"Poisson\")\n",
    "    print(\"Parameters: {}\".format(parameters_list))\n",
    "    print(\"Loss: {}\".format(err))\n",
    "\n",
    "initial_guess = parameters_list.flatten()\n",
    "\n",
    "from scipy.optimize import minimize\n",
    "res = minimize(error_function, initial_guess, method=\"L-BFGS-B\", callback=callback_function,\n",
    "               tol=1e-10,\n",
    "               bounds=bounds[bias_model],\n",
    "               options={'disp': True, 'eps':1e-5, 'finite_diff_rel_step': 1e-5})\n",
    "\n",
    "print(res)"
   ]
  },
  {
   "cell_type": "code",
   "execution_count": null,
   "metadata": {},
   "outputs": [],
   "source": [
    "# Visualize the predictions with the optimized parameters:\n",
    "BiasModel = BiasModelBORG(bias_model, reskeys=reskeys, fields_to_load=fields_to_load)\n",
    "params = res.x.reshape((nkeys, nfields, -1))\n",
    "BiasModel.plot_count_field(0, params[0][0], \"counts_bin_0\")"
   ]
  },
  {
   "cell_type": "code",
   "execution_count": null,
   "metadata": {},
   "outputs": [],
   "source": [
    "# Visualize the predictions with the initial parameters:\n",
    "BiasModel = BiasModelBORG(bias_model, reskeys=reskeys, fields_to_load=fields_to_load)\n",
    "BiasModel.plot_count_field(0, parameters_list[0][0], \"counts_bin_0\")"
   ]
  },
  {
   "attachments": {},
   "cell_type": "markdown",
   "metadata": {},
   "source": [
    "### Perform optimisation for a more complex case"
   ]
  },
  {
   "cell_type": "code",
   "execution_count": null,
   "metadata": {},
   "outputs": [],
   "source": [
    "script5_path = wd+\"perform_opt.py\""
   ]
  },
  {
   "cell_type": "code",
   "execution_count": null,
   "metadata": {},
   "outputs": [],
   "source": [
    "bias_model = \"bias::BrokenPowerLaw\"\n",
    "nkeys = 2\n",
    "nfields = 2\n",
    "identifier = \"v0.1\""
   ]
  },
  {
   "cell_type": "code",
   "execution_count": null,
   "metadata": {},
   "outputs": [],
   "source": [
    "%%writetemplate {wd+\"RUN_SCRIPTS/run5.sh\"}\n",
    "{HEADER}\n",
    "module load \"intelpython/3-2023.0.0\"\n",
    "source activate borg\n",
    "python \"{script5_path}\" --bias_model {bias_model} --id {identifier} --nkeys {nkeys} --nfields {nfields}\n",
    "exit 0"
   ]
  },
  {
   "cell_type": "code",
   "execution_count": null,
   "metadata": {},
   "outputs": [],
   "source": [
    "%%bash -s {wd+\"RUN_SCRIPTS/run5.sh\"}\n",
    "qsub $1"
   ]
  },
  {
   "cell_type": "code",
   "execution_count": null,
   "metadata": {},
   "outputs": [],
   "source": [
    "# Visualize the predictions with the optimized parameters:\n",
    "params = np.load(wd+\"results/\"+str(nkeys)+'_'+str(nfields)+'_'+bias_model+\"_opt_parameters_\"+identifier+\".npy\")\n",
    "# params = np.load(wd+\"2_2_bias::BrokenPowerLaw_opt_parameters_v0.0.npy\")\n",
    "BiasModel = BiasModelBORG(\"bias::BrokenPowerLaw\", reskeys=[\"res_{}\".format(i) for i in range(nkeys)],\n",
    "                          fields_to_load=['dm_overdensity'] + [\"counts_bin_{}\".format(i) for i in range(nfields)])\n",
    "BiasModel.plot_count_field(0, params[0][0], \"counts_bin_0\", title=\"32^3 grid, mass bin 0\")\n",
    "BiasModel.plot_count_field(1, params[1][0], \"counts_bin_0\", title=\"64^3 grid, mass bin 0\")\n",
    "BiasModel.plot_count_field(0, params[0][1], \"counts_bin_1\", title=\"32^3 grid, mass bin 1\")\n",
    "BiasModel.plot_count_field(1, params[1][1], \"counts_bin_1\", title=\"64^3 grid, mass bin 1\")"
   ]
  },
  {
   "attachments": {},
   "cell_type": "markdown",
   "metadata": {},
   "source": [
    "## Generate predictions for one resolution"
   ]
  },
  {
   "attachments": {},
   "cell_type": "markdown",
   "metadata": {},
   "source": [
    "### Perform some tests by hand"
   ]
  },
  {
   "cell_type": "code",
   "execution_count": 7,
   "metadata": {},
   "outputs": [],
   "source": [
    "bias_model = \"bias::BrokenPowerLaw\"\n",
    "nkeys = 2\n",
    "nfields = 2\n",
    "identifier = \"v0.1\""
   ]
  },
  {
   "cell_type": "code",
   "execution_count": 8,
   "metadata": {},
   "outputs": [
    {
     "data": {
      "text/plain": [
       "array([[[4.19187333e+01, 1.09106881e+00, 1.99992290e+00, 1.43787661e-02],\n",
       "        [3.14026274e+01, 1.17396816e+00, 2.00000000e+00, 1.04231930e-02]],\n",
       "\n",
       "       [[2.72555060e+01, 3.52075618e-02, 7.06082363e-01, 1.89749075e+00],\n",
       "        [2.24367678e+01, 1.00000000e-02, 7.87449506e-01, 1.87368426e+00]]])"
      ]
     },
     "execution_count": 8,
     "metadata": {},
     "output_type": "execute_result"
    }
   ],
   "source": [
    "params = np.load(wd+\"results/\"+str(nkeys)+'_'+str(nfields)+'_'+bias_model+\"_opt_parameters_\"+identifier+\".npy\")\n",
    "params"
   ]
  },
  {
   "cell_type": "code",
   "execution_count": 9,
   "metadata": {},
   "outputs": [],
   "source": [
    "# We now want to generate predictions with the above optimized parameters, and append them to the HDF5 file:\n",
    "BiasModel = BiasModelBORG(\"bias::BrokenPowerLaw\", reskeys=[\"res_{}\".format(i) for i in range(nkeys)],\n",
    "                          fields_to_load=['dm_overdensity'] + [\"counts_bin_{}\".format(i) for i in range(nfields)])\n",
    "prediction = BiasModel.get_count_field(0, params[0][0])"
   ]
  },
  {
   "cell_type": "code",
   "execution_count": 10,
   "metadata": {},
   "outputs": [
    {
     "data": {
      "text/plain": [
       "(32, 32, 32)"
      ]
     },
     "execution_count": 10,
     "metadata": {},
     "output_type": "execute_result"
    }
   ],
   "source": [
    "prediction.shape"
   ]
  },
  {
   "cell_type": "code",
   "execution_count": 11,
   "metadata": {},
   "outputs": [],
   "source": [
    "def read_specific_location(filename, seed, reskey_id):\n",
    "    f = h5py.File(filename, mode='r')\n",
    "    group = f[seed]\n",
    "    reskey = \"res_{}\".format(reskey_id)\n",
    "    for key in group[reskey].attrs.keys():\n",
    "        print(key, group[reskey].attrs[key])\n",
    "    for key in group[reskey].keys():\n",
    "        print(key)\n",
    "    f.close()\n",
    "\n",
    "def read_attributes_of_highest_level_layer(filename, seed, reskey_id, field):\n",
    "    f = h5py.File(filename, mode='r')\n",
    "    group = f[seed]\n",
    "    reskey = \"res_{}\".format(reskey_id)\n",
    "    for key in group[reskey][field].attrs.keys():\n",
    "        print(key, group[reskey][field].attrs[key])"
   ]
  },
  {
   "cell_type": "code",
   "execution_count": 12,
   "metadata": {},
   "outputs": [
    {
     "name": "stdout",
     "output_type": "stream",
     "text": [
      "boxsize 1000.0\n",
      "ngrid 32\n",
      "counts_bin_0\n",
      "counts_bin_1\n",
      "counts_bin_2\n",
      "counts_bin_3\n",
      "counts_bin_4\n",
      "counts_bin_5\n",
      "dm_overdensity\n"
     ]
    }
   ],
   "source": [
    "pred_file = train_dir+\"data_and_predictions.hdf5\"\n",
    "read_specific_location(pred_file, av_seeds[0], 0)"
   ]
  },
  {
   "cell_type": "code",
   "execution_count": 15,
   "metadata": {},
   "outputs": [
    {
     "name": "stdout",
     "output_type": "stream",
     "text": [
      "boxsize 1000.0\n",
      "ngrid 32\n",
      "counts_bin_0\n",
      "counts_bin_1\n",
      "counts_bin_2\n",
      "counts_bin_3\n",
      "counts_bin_4\n",
      "counts_bin_5\n",
      "counts_predicted_bin_0\n",
      "dm_overdensity\n"
     ]
    }
   ],
   "source": [
    "# add_prediction_to_data(pred_file, av_seeds[0], 0, 0, prediction)\n",
    "read_specific_location(pred_file, av_seeds[0], 0)"
   ]
  },
  {
   "cell_type": "code",
   "execution_count": 17,
   "metadata": {},
   "outputs": [
    {
     "name": "stdout",
     "output_type": "stream",
     "text": [
      "M_hi 12.5\n",
      "M_lo 12.0\n",
      "M_hi 12.5\n",
      "M_lo 12.0\n"
     ]
    }
   ],
   "source": [
    "read_attributes_of_highest_level_layer(pred_file, av_seeds[0], 0, \"counts_bin_0\")\n",
    "read_attributes_of_highest_level_layer(pred_file, av_seeds[0], 0, \"counts_predicted_bin_0\")"
   ]
  },
  {
   "attachments": {},
   "cell_type": "markdown",
   "metadata": {},
   "source": [
    "### Generate actual predictions"
   ]
  },
  {
   "cell_type": "code",
   "execution_count": 18,
   "metadata": {},
   "outputs": [
    {
     "name": "stdout",
     "output_type": "stream",
     "text": [
      "###################\n",
      "## Seed index: 0 ##\n",
      "###################\n",
      "# Reskey: 0\n",
      "### Field: 0\n",
      "### Field: 1\n",
      "# Reskey: 1\n",
      "### Field: 0\n",
      "### Field: 1\n",
      "###################\n",
      "## Seed index: 1 ##\n",
      "###################\n",
      "# Reskey: 0\n",
      "### Field: 0\n",
      "### Field: 1\n",
      "# Reskey: 1\n",
      "### Field: 0\n",
      "### Field: 1\n",
      "###################\n",
      "## Seed index: 2 ##\n",
      "###################\n",
      "# Reskey: 0\n",
      "### Field: 0\n",
      "### Field: 1\n",
      "# Reskey: 1\n",
      "### Field: 0\n",
      "### Field: 1\n",
      "###################\n",
      "## Seed index: 3 ##\n",
      "###################\n",
      "# Reskey: 0\n",
      "### Field: 0\n",
      "### Field: 1\n",
      "# Reskey: 1\n",
      "### Field: 0\n",
      "### Field: 1\n",
      "###################\n",
      "## Seed index: 4 ##\n",
      "###################\n",
      "# Reskey: 0\n",
      "### Field: 0\n",
      "### Field: 1\n",
      "# Reskey: 1\n",
      "### Field: 0\n",
      "### Field: 1\n",
      "###################\n",
      "## Seed index: 5 ##\n",
      "###################\n",
      "# Reskey: 0\n",
      "### Field: 0\n",
      "### Field: 1\n",
      "# Reskey: 1\n",
      "### Field: 0\n",
      "### Field: 1\n",
      "###################\n",
      "## Seed index: 6 ##\n",
      "###################\n",
      "# Reskey: 0\n",
      "### Field: 0\n",
      "### Field: 1\n",
      "# Reskey: 1\n",
      "### Field: 0\n",
      "### Field: 1\n",
      "###################\n",
      "## Seed index: 7 ##\n",
      "###################\n",
      "# Reskey: 0\n",
      "### Field: 0\n",
      "### Field: 1\n",
      "# Reskey: 1\n",
      "### Field: 0\n",
      "### Field: 1\n",
      "###################\n",
      "## Seed index: 8 ##\n",
      "###################\n",
      "# Reskey: 0\n",
      "### Field: 0\n",
      "### Field: 1\n",
      "# Reskey: 1\n",
      "### Field: 0\n",
      "### Field: 1\n",
      "###################\n",
      "## Seed index: 9 ##\n",
      "###################\n",
      "# Reskey: 0\n",
      "### Field: 0\n",
      "### Field: 1\n",
      "# Reskey: 1\n",
      "### Field: 0\n",
      "### Field: 1\n",
      "###################\n",
      "## Seed index: 10 ##\n",
      "###################\n",
      "# Reskey: 0\n",
      "### Field: 0\n",
      "### Field: 1\n",
      "# Reskey: 1\n",
      "### Field: 0\n",
      "### Field: 1\n"
     ]
    }
   ],
   "source": [
    "pred_file = train_dir+\"data_and_predictions.hdf5\"\n",
    "\n",
    "bias_model = \"bias::BrokenPowerLaw\"\n",
    "nkeys = 2\n",
    "nfields = 2\n",
    "identifier = \"v0.1\"\n",
    "\n",
    "params = np.load(wd+\"results/\"+str(nkeys)+'_'+str(nfields)+'_'+bias_model+\"_opt_parameters_\"+identifier+\".npy\")\n",
    "BiasModel = BiasModelBORG(bias_model, reskeys=[\"res_{}\".format(i) for i in range(nkeys)],\n",
    "                          fields_to_load=['dm_overdensity'] + [\"counts_bin_{}\".format(i) for i in range(nfields)])\n",
    "\n",
    "for seed_id, seed in enumerate(av_seeds):\n",
    "    print(\"###################\")\n",
    "    print(\"## Seed index: {} ##\".format(seed_id))\n",
    "    print(\"###################\")\n",
    "    BiasModel.load_data(seed_id)\n",
    "    for reskey_id in range(nkeys):\n",
    "        print(\"# Reskey: {}\".format(reskey_id))\n",
    "        for field_id in range(nfields):\n",
    "            print(\"### Field: {}\".format(field_id))\n",
    "            prediction = BiasModel.get_count_field(reskey_id, params[reskey_id][field_id])\n",
    "            add_prediction_to_data(pred_file, seed, reskey_id, field_id, prediction)"
   ]
  },
  {
   "cell_type": "code",
   "execution_count": 20,
   "metadata": {},
   "outputs": [
    {
     "name": "stdout",
     "output_type": "stream",
     "text": [
      "# Seed index: 0\n",
      "## Reskey: 0\n",
      "### Field: 0\n",
      "boxsize 1000.0\n",
      "ngrid 32\n",
      "counts_bin_0\n",
      "counts_bin_1\n",
      "counts_bin_2\n",
      "counts_bin_3\n",
      "counts_bin_4\n",
      "counts_bin_5\n",
      "counts_predicted_bin_0\n",
      "counts_predicted_bin_1\n",
      "dm_overdensity\n",
      "### Field: 1\n",
      "boxsize 1000.0\n",
      "ngrid 32\n",
      "counts_bin_0\n",
      "counts_bin_1\n",
      "counts_bin_2\n",
      "counts_bin_3\n",
      "counts_bin_4\n",
      "counts_bin_5\n",
      "counts_predicted_bin_0\n",
      "counts_predicted_bin_1\n",
      "dm_overdensity\n",
      "## Reskey: 1\n",
      "### Field: 0\n",
      "boxsize 1000.0\n",
      "ngrid 64\n",
      "counts_bin_0\n",
      "counts_bin_1\n",
      "counts_bin_2\n",
      "counts_bin_3\n",
      "counts_bin_4\n",
      "counts_bin_5\n",
      "counts_predicted_bin_0\n",
      "counts_predicted_bin_1\n",
      "dm_overdensity\n",
      "### Field: 1\n",
      "boxsize 1000.0\n",
      "ngrid 64\n",
      "counts_bin_0\n",
      "counts_bin_1\n",
      "counts_bin_2\n",
      "counts_bin_3\n",
      "counts_bin_4\n",
      "counts_bin_5\n",
      "counts_predicted_bin_0\n",
      "counts_predicted_bin_1\n",
      "dm_overdensity\n",
      "# Seed index: 1\n",
      "## Reskey: 0\n",
      "### Field: 0\n",
      "boxsize 1000.0\n",
      "ngrid 32\n",
      "counts_bin_0\n",
      "counts_bin_1\n",
      "counts_bin_2\n",
      "counts_bin_3\n",
      "counts_bin_4\n",
      "counts_bin_5\n",
      "counts_predicted_bin_0\n",
      "counts_predicted_bin_1\n",
      "dm_overdensity\n",
      "### Field: 1\n",
      "boxsize 1000.0\n",
      "ngrid 32\n",
      "counts_bin_0\n",
      "counts_bin_1\n",
      "counts_bin_2\n",
      "counts_bin_3\n",
      "counts_bin_4\n",
      "counts_bin_5\n",
      "counts_predicted_bin_0\n",
      "counts_predicted_bin_1\n",
      "dm_overdensity\n",
      "## Reskey: 1\n",
      "### Field: 0\n",
      "boxsize 1000.0\n",
      "ngrid 64\n",
      "counts_bin_0\n",
      "counts_bin_1\n",
      "counts_bin_2\n",
      "counts_bin_3\n",
      "counts_bin_4\n",
      "counts_bin_5\n",
      "counts_predicted_bin_0\n",
      "counts_predicted_bin_1\n",
      "dm_overdensity\n",
      "### Field: 1\n",
      "boxsize 1000.0\n",
      "ngrid 64\n",
      "counts_bin_0\n",
      "counts_bin_1\n",
      "counts_bin_2\n",
      "counts_bin_3\n",
      "counts_bin_4\n",
      "counts_bin_5\n",
      "counts_predicted_bin_0\n",
      "counts_predicted_bin_1\n",
      "dm_overdensity\n",
      "# Seed index: 2\n",
      "## Reskey: 0\n",
      "### Field: 0\n",
      "boxsize 1000.0\n",
      "ngrid 32\n",
      "counts_bin_0\n",
      "counts_bin_1\n",
      "counts_bin_2\n",
      "counts_bin_3\n",
      "counts_bin_4\n",
      "counts_bin_5\n",
      "counts_predicted_bin_0\n",
      "counts_predicted_bin_1\n",
      "dm_overdensity\n",
      "### Field: 1\n",
      "boxsize 1000.0\n",
      "ngrid 32\n",
      "counts_bin_0\n",
      "counts_bin_1\n",
      "counts_bin_2\n",
      "counts_bin_3\n",
      "counts_bin_4\n",
      "counts_bin_5\n",
      "counts_predicted_bin_0\n",
      "counts_predicted_bin_1\n",
      "dm_overdensity\n",
      "## Reskey: 1\n",
      "### Field: 0\n",
      "boxsize 1000.0\n",
      "ngrid 64\n",
      "counts_bin_0\n",
      "counts_bin_1\n",
      "counts_bin_2\n",
      "counts_bin_3\n",
      "counts_bin_4\n",
      "counts_bin_5\n",
      "counts_predicted_bin_0\n",
      "counts_predicted_bin_1\n",
      "dm_overdensity\n",
      "### Field: 1\n",
      "boxsize 1000.0\n",
      "ngrid 64\n",
      "counts_bin_0\n",
      "counts_bin_1\n",
      "counts_bin_2\n",
      "counts_bin_3\n",
      "counts_bin_4\n",
      "counts_bin_5\n",
      "counts_predicted_bin_0\n",
      "counts_predicted_bin_1\n",
      "dm_overdensity\n",
      "# Seed index: 3\n",
      "## Reskey: 0\n",
      "### Field: 0\n",
      "boxsize 1000.0\n",
      "ngrid 32\n",
      "counts_bin_0\n",
      "counts_bin_1\n",
      "counts_bin_2\n",
      "counts_bin_3\n",
      "counts_bin_4\n",
      "counts_bin_5\n",
      "counts_predicted_bin_0\n",
      "counts_predicted_bin_1\n",
      "dm_overdensity\n",
      "### Field: 1\n",
      "boxsize 1000.0\n",
      "ngrid 32\n",
      "counts_bin_0\n",
      "counts_bin_1\n",
      "counts_bin_2\n",
      "counts_bin_3\n",
      "counts_bin_4\n",
      "counts_bin_5\n",
      "counts_predicted_bin_0\n",
      "counts_predicted_bin_1\n",
      "dm_overdensity\n",
      "## Reskey: 1\n",
      "### Field: 0\n",
      "boxsize 1000.0\n",
      "ngrid 64\n",
      "counts_bin_0\n",
      "counts_bin_1\n",
      "counts_bin_2\n",
      "counts_bin_3\n",
      "counts_bin_4\n",
      "counts_bin_5\n",
      "counts_predicted_bin_0\n",
      "counts_predicted_bin_1\n",
      "dm_overdensity\n",
      "### Field: 1\n",
      "boxsize 1000.0\n",
      "ngrid 64\n",
      "counts_bin_0\n",
      "counts_bin_1\n",
      "counts_bin_2\n",
      "counts_bin_3\n",
      "counts_bin_4\n",
      "counts_bin_5\n",
      "counts_predicted_bin_0\n",
      "counts_predicted_bin_1\n",
      "dm_overdensity\n",
      "# Seed index: 4\n",
      "## Reskey: 0\n",
      "### Field: 0\n",
      "boxsize 1000.0\n",
      "ngrid 32\n",
      "counts_bin_0\n",
      "counts_bin_1\n",
      "counts_bin_2\n",
      "counts_bin_3\n",
      "counts_bin_4\n",
      "counts_bin_5\n",
      "counts_predicted_bin_0\n",
      "counts_predicted_bin_1\n",
      "dm_overdensity\n",
      "### Field: 1\n",
      "boxsize 1000.0\n",
      "ngrid 32\n",
      "counts_bin_0\n",
      "counts_bin_1\n",
      "counts_bin_2\n",
      "counts_bin_3\n",
      "counts_bin_4\n",
      "counts_bin_5\n",
      "counts_predicted_bin_0\n",
      "counts_predicted_bin_1\n",
      "dm_overdensity\n",
      "## Reskey: 1\n",
      "### Field: 0\n",
      "boxsize 1000.0\n",
      "ngrid 64\n",
      "counts_bin_0\n",
      "counts_bin_1\n",
      "counts_bin_2\n",
      "counts_bin_3\n",
      "counts_bin_4\n",
      "counts_bin_5\n",
      "counts_predicted_bin_0\n",
      "counts_predicted_bin_1\n",
      "dm_overdensity\n",
      "### Field: 1\n",
      "boxsize 1000.0\n",
      "ngrid 64\n",
      "counts_bin_0\n",
      "counts_bin_1\n",
      "counts_bin_2\n",
      "counts_bin_3\n",
      "counts_bin_4\n",
      "counts_bin_5\n",
      "counts_predicted_bin_0\n",
      "counts_predicted_bin_1\n",
      "dm_overdensity\n",
      "# Seed index: 5\n",
      "## Reskey: 0\n",
      "### Field: 0\n",
      "boxsize 1000.0\n",
      "ngrid 32\n",
      "counts_bin_0\n",
      "counts_bin_1\n",
      "counts_bin_2\n",
      "counts_bin_3\n",
      "counts_bin_4\n",
      "counts_bin_5\n",
      "counts_predicted_bin_0\n",
      "counts_predicted_bin_1\n",
      "dm_overdensity\n",
      "### Field: 1\n",
      "boxsize 1000.0\n",
      "ngrid 32\n",
      "counts_bin_0\n",
      "counts_bin_1\n",
      "counts_bin_2\n",
      "counts_bin_3\n",
      "counts_bin_4\n",
      "counts_bin_5\n",
      "counts_predicted_bin_0\n",
      "counts_predicted_bin_1\n",
      "dm_overdensity\n",
      "## Reskey: 1\n",
      "### Field: 0\n",
      "boxsize 1000.0\n",
      "ngrid 64\n",
      "counts_bin_0\n",
      "counts_bin_1\n",
      "counts_bin_2\n",
      "counts_bin_3\n",
      "counts_bin_4\n",
      "counts_bin_5\n",
      "counts_predicted_bin_0\n",
      "counts_predicted_bin_1\n",
      "dm_overdensity\n",
      "### Field: 1\n",
      "boxsize 1000.0\n",
      "ngrid 64\n",
      "counts_bin_0\n",
      "counts_bin_1\n",
      "counts_bin_2\n",
      "counts_bin_3\n",
      "counts_bin_4\n",
      "counts_bin_5\n",
      "counts_predicted_bin_0\n",
      "counts_predicted_bin_1\n",
      "dm_overdensity\n",
      "# Seed index: 6\n",
      "## Reskey: 0\n",
      "### Field: 0\n",
      "boxsize 1000.0\n",
      "ngrid 32\n",
      "counts_bin_0\n",
      "counts_bin_1\n",
      "counts_bin_2\n",
      "counts_bin_3\n",
      "counts_bin_4\n",
      "counts_bin_5\n",
      "counts_predicted_bin_0\n",
      "counts_predicted_bin_1\n",
      "dm_overdensity\n",
      "### Field: 1\n",
      "boxsize 1000.0\n",
      "ngrid 32\n",
      "counts_bin_0\n",
      "counts_bin_1\n",
      "counts_bin_2\n",
      "counts_bin_3\n",
      "counts_bin_4\n",
      "counts_bin_5\n",
      "counts_predicted_bin_0\n",
      "counts_predicted_bin_1\n",
      "dm_overdensity\n",
      "## Reskey: 1\n",
      "### Field: 0\n",
      "boxsize 1000.0\n",
      "ngrid 64\n",
      "counts_bin_0\n",
      "counts_bin_1\n",
      "counts_bin_2\n",
      "counts_bin_3\n",
      "counts_bin_4\n",
      "counts_bin_5\n",
      "counts_predicted_bin_0\n",
      "counts_predicted_bin_1\n",
      "dm_overdensity\n",
      "### Field: 1\n",
      "boxsize 1000.0\n",
      "ngrid 64\n",
      "counts_bin_0\n",
      "counts_bin_1\n",
      "counts_bin_2\n",
      "counts_bin_3\n",
      "counts_bin_4\n",
      "counts_bin_5\n",
      "counts_predicted_bin_0\n",
      "counts_predicted_bin_1\n",
      "dm_overdensity\n",
      "# Seed index: 7\n",
      "## Reskey: 0\n",
      "### Field: 0\n",
      "boxsize 1000.0\n",
      "ngrid 32\n",
      "counts_bin_0\n",
      "counts_bin_1\n",
      "counts_bin_2\n",
      "counts_bin_3\n",
      "counts_bin_4\n",
      "counts_bin_5\n",
      "counts_predicted_bin_0\n",
      "counts_predicted_bin_1\n",
      "dm_overdensity\n",
      "### Field: 1\n",
      "boxsize 1000.0\n",
      "ngrid 32\n",
      "counts_bin_0\n",
      "counts_bin_1\n",
      "counts_bin_2\n",
      "counts_bin_3\n",
      "counts_bin_4\n",
      "counts_bin_5\n",
      "counts_predicted_bin_0\n",
      "counts_predicted_bin_1\n",
      "dm_overdensity\n",
      "## Reskey: 1\n",
      "### Field: 0\n",
      "boxsize 1000.0\n",
      "ngrid 64\n",
      "counts_bin_0\n",
      "counts_bin_1\n",
      "counts_bin_2\n",
      "counts_bin_3\n",
      "counts_bin_4\n",
      "counts_bin_5\n",
      "counts_predicted_bin_0\n",
      "counts_predicted_bin_1\n",
      "dm_overdensity\n",
      "### Field: 1\n",
      "boxsize 1000.0\n",
      "ngrid 64\n",
      "counts_bin_0\n",
      "counts_bin_1\n",
      "counts_bin_2\n",
      "counts_bin_3\n",
      "counts_bin_4\n",
      "counts_bin_5\n",
      "counts_predicted_bin_0\n",
      "counts_predicted_bin_1\n",
      "dm_overdensity\n",
      "# Seed index: 8\n",
      "## Reskey: 0\n",
      "### Field: 0\n",
      "boxsize 1000.0\n",
      "ngrid 32\n",
      "counts_bin_0\n",
      "counts_bin_1\n",
      "counts_bin_2\n",
      "counts_bin_3\n",
      "counts_bin_4\n",
      "counts_bin_5\n",
      "counts_predicted_bin_0\n",
      "counts_predicted_bin_1\n",
      "dm_overdensity\n",
      "### Field: 1\n",
      "boxsize 1000.0\n",
      "ngrid 32\n",
      "counts_bin_0\n",
      "counts_bin_1\n",
      "counts_bin_2\n",
      "counts_bin_3\n",
      "counts_bin_4\n",
      "counts_bin_5\n",
      "counts_predicted_bin_0\n",
      "counts_predicted_bin_1\n",
      "dm_overdensity\n",
      "## Reskey: 1\n",
      "### Field: 0\n",
      "boxsize 1000.0\n",
      "ngrid 64\n",
      "counts_bin_0\n",
      "counts_bin_1\n",
      "counts_bin_2\n",
      "counts_bin_3\n",
      "counts_bin_4\n",
      "counts_bin_5\n",
      "counts_predicted_bin_0\n",
      "counts_predicted_bin_1\n",
      "dm_overdensity\n",
      "### Field: 1\n",
      "boxsize 1000.0\n",
      "ngrid 64\n",
      "counts_bin_0\n",
      "counts_bin_1\n",
      "counts_bin_2\n",
      "counts_bin_3\n",
      "counts_bin_4\n",
      "counts_bin_5\n",
      "counts_predicted_bin_0\n",
      "counts_predicted_bin_1\n",
      "dm_overdensity\n",
      "# Seed index: 9\n",
      "## Reskey: 0\n",
      "### Field: 0\n",
      "boxsize 1000.0\n",
      "ngrid 32\n",
      "counts_bin_0\n",
      "counts_bin_1\n",
      "counts_bin_2\n",
      "counts_bin_3\n",
      "counts_bin_4\n",
      "counts_bin_5\n",
      "counts_predicted_bin_0\n",
      "counts_predicted_bin_1\n",
      "dm_overdensity\n",
      "### Field: 1\n",
      "boxsize 1000.0\n",
      "ngrid 32\n",
      "counts_bin_0\n",
      "counts_bin_1\n",
      "counts_bin_2\n",
      "counts_bin_3\n",
      "counts_bin_4\n",
      "counts_bin_5\n",
      "counts_predicted_bin_0\n",
      "counts_predicted_bin_1\n",
      "dm_overdensity\n",
      "## Reskey: 1\n",
      "### Field: 0\n",
      "boxsize 1000.0\n",
      "ngrid 64\n",
      "counts_bin_0\n",
      "counts_bin_1\n",
      "counts_bin_2\n",
      "counts_bin_3\n",
      "counts_bin_4\n",
      "counts_bin_5\n",
      "counts_predicted_bin_0\n",
      "counts_predicted_bin_1\n",
      "dm_overdensity\n",
      "### Field: 1\n",
      "boxsize 1000.0\n",
      "ngrid 64\n",
      "counts_bin_0\n",
      "counts_bin_1\n",
      "counts_bin_2\n",
      "counts_bin_3\n",
      "counts_bin_4\n",
      "counts_bin_5\n",
      "counts_predicted_bin_0\n",
      "counts_predicted_bin_1\n",
      "dm_overdensity\n",
      "# Seed index: 10\n",
      "## Reskey: 0\n",
      "### Field: 0\n",
      "boxsize 1000.0\n",
      "ngrid 32\n",
      "counts_bin_0\n",
      "counts_bin_1\n",
      "counts_bin_2\n",
      "counts_bin_3\n",
      "counts_bin_4\n",
      "counts_bin_5\n",
      "counts_predicted_bin_0\n",
      "counts_predicted_bin_1\n",
      "dm_overdensity\n",
      "### Field: 1\n",
      "boxsize 1000.0\n",
      "ngrid 32\n",
      "counts_bin_0\n",
      "counts_bin_1\n",
      "counts_bin_2\n",
      "counts_bin_3\n",
      "counts_bin_4\n",
      "counts_bin_5\n",
      "counts_predicted_bin_0\n",
      "counts_predicted_bin_1\n",
      "dm_overdensity\n",
      "## Reskey: 1\n",
      "### Field: 0\n",
      "boxsize 1000.0\n",
      "ngrid 64\n",
      "counts_bin_0\n",
      "counts_bin_1\n",
      "counts_bin_2\n",
      "counts_bin_3\n",
      "counts_bin_4\n",
      "counts_bin_5\n",
      "counts_predicted_bin_0\n",
      "counts_predicted_bin_1\n",
      "dm_overdensity\n",
      "### Field: 1\n",
      "boxsize 1000.0\n",
      "ngrid 64\n",
      "counts_bin_0\n",
      "counts_bin_1\n",
      "counts_bin_2\n",
      "counts_bin_3\n",
      "counts_bin_4\n",
      "counts_bin_5\n",
      "counts_predicted_bin_0\n",
      "counts_predicted_bin_1\n",
      "dm_overdensity\n"
     ]
    }
   ],
   "source": [
    "# Checks that the predictions have been added to the HDF5 file:\n",
    "for seed_id, seed in enumerate(av_seeds):\n",
    "    print(\"# Seed index: {}\".format(seed_id))\n",
    "    for reskey_id in range(nkeys):\n",
    "        print(\"## Reskey: {}\".format(reskey_id))\n",
    "        for field_id in range(nfields):\n",
    "            print(\"### Field: {}\".format(field_id))\n",
    "            read_specific_location(pred_file, seed, reskey_id)"
   ]
  },
  {
   "cell_type": "code",
   "execution_count": 40,
   "metadata": {},
   "outputs": [
    {
     "data": {
      "image/png": "[encoded data removed]",
      "text/plain": [
       "<Figure size 1000x400 with 4 Axes>"
      ]
     },
     "metadata": {},
     "output_type": "display_data"
    }
   ],
   "source": [
    "# Plot some heatmaps of the predictions, by reading them in the new data file, to checks if they were added correctly:\n",
    "seed_id = 9\n",
    "reskey_id = 1\n",
    "field_id = 1\n",
    "seed = av_seeds[seed_id]\n",
    "\n",
    "f = h5py.File(pred_file, mode='r')\n",
    "group = f[seed]\n",
    "reskey = \"res_{}\".format(reskey_id)\n",
    "gt_counts = group[reskey][\"counts_bin_{}\".format(field_id)][:]\n",
    "pred_counts = group[reskey][\"counts_predicted_bin_{}\".format(field_id)][:]\n",
    "N = np.shape(gt_counts)[0]\n",
    "f.close()\n",
    "\n",
    "plt.figure(figsize=(10, 4))\n",
    "plt.subplot(121)\n",
    "sns.heatmap(gt_counts[...,N//2], cmap=\"viridis\")\n",
    "ax = plt.gca()\n",
    "ax.set_aspect('equal')\n",
    "plt.title(\"True halo counts\")\n",
    "plt.subplot(122)\n",
    "sns.heatmap(pred_counts[...,N//2], cmap=\"viridis\")\n",
    "ax = plt.gca()\n",
    "ax.set_aspect('equal')\n",
    "plt.title(\"Predicted counts\")\n",
    "plt.show()"
   ]
  },
  {
   "cell_type": "code",
   "execution_count": null,
   "metadata": {},
   "outputs": [],
   "source": []
  },
  {
   "cell_type": "code",
   "execution_count": null,
   "metadata": {},
   "outputs": [],
   "source": []
  },
  {
   "cell_type": "code",
   "execution_count": null,
   "metadata": {},
   "outputs": [],
   "source": []
  }
 ],
 "metadata": {
  "kernelspec": {
   "display_name": "borg",
   "language": "python",
   "name": "python3"
  },
  "language_info": {
   "codemirror_mode": {
    "name": "ipython",
    "version": 3
   },
   "file_extension": ".py",
   "mimetype": "text/x-python",
   "name": "python",
   "nbconvert_exporter": "python",
   "pygments_lexer": "ipython3",
   "version": "3.10.10"
  },
  "orig_nbformat": 4
 },
 "nbformat": 4,
 "nbformat_minor": 2
}
