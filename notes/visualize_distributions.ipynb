{
 "cells": [
  {
   "cell_type": "markdown",
   "source": [
    "# Visualise halo distributions"
   ],
   "metadata": {
    "collapsed": false
   }
  },
  {
   "cell_type": "markdown",
   "source": [
    "This notebook showcases how you can use the test bench to visualise a given halo catalog, namely we will look at the halo number distributions across different gridding resolutions and mass bins. The test bench will do the heavy lifting of reading in the catalogues and process the catalogues in an automated fashion."
   ],
   "metadata": {
    "collapsed": false
   }
  },
  {
   "cell_type": "code",
   "execution_count": null,
   "outputs": [],
   "source": [
    "import bias_bench as bb\n",
    "\n",
    "import numpy as np\n",
    "import matplotlib.pyplot as plt"
   ],
   "metadata": {
    "collapsed": false
   }
  },
  {
   "cell_type": "code",
   "execution_count": null,
   "outputs": [],
   "source": [
    "# Specify the simulation properties\n",
    "box_size = 1000\n",
    "mass_threshold = 2e11\n",
    "n_cats = 2\n",
    "cat_paths = [f'/data80/sding/quijote/{cat_i}/rockstar.out_4_pid.list' for cat_i in range(n_cats)]"
   ],
   "metadata": {
    "collapsed": false
   }
  },
  {
   "cell_type": "code",
   "execution_count": null,
   "outputs": [],
   "source": [
    "cats = bb.read_rockstar_ascii_cat(cat_paths, mass_threshold, capital_id=True, convert_to_numpy=True)"
   ],
   "metadata": {
    "collapsed": false
   }
  },
  {
   "cell_type": "code",
   "execution_count": null,
   "outputs": [],
   "source": [
    "# TODO: make this a configurable parameter\n",
    "mass_bins = np.array([5.e+13, 7.e+13, 1.e+14, 5.e+14, 1.e+15])\n",
    "mesh_sizes = np.array([16, 32, 64, 128, 256])\n",
    "\n",
    "coords_per_mass_bin = bb.get_halo_coords_per_mass_bin(mass_bins, cats[0])\n",
    "halo_count_fields_per_mass_bin = [bb.get_halo_count_field(coords_per_mass_bin[mass_bin_id], mesh_sizes) for\n",
    "                                  mass_bin_id in range(mass_bins.size - 1)]\n",
    "\n",
    "halo_count_fields_per_mass_bin = np.asarray(halo_count_fields_per_mass_bin)"
   ],
   "metadata": {
    "collapsed": false
   }
  }
 ],
 "metadata": {
  "kernelspec": {
   "display_name": "Python 3",
   "language": "python",
   "name": "python3"
  },
  "language_info": {
   "codemirror_mode": {
    "name": "ipython",
    "version": 2
   },
   "file_extension": ".py",
   "mimetype": "text/x-python",
   "name": "python",
   "nbconvert_exporter": "python",
   "pygments_lexer": "ipython2",
   "version": "2.7.6"
  }
 },
 "nbformat": 4,
 "nbformat_minor": 0
}
